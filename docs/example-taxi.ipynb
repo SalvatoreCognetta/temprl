{
 "cells": [
  {
   "cell_type": "markdown",
   "source": [
    "## The Taxi Environment\n",
    "\n",
    "In this section, we will represent the task of the [Taxi\n",
    "environment](https://gym.openai.com/envs/Taxi-v3/)\n",
    "[@dietterich2000hierarchical]\n",
    "as a finite-state machine, and use the framework\n",
    "TempRL to set up the training."
   ],
   "metadata": {
    "collapsed": false,
    "pycharm": {
     "name": "#%% md\n"
    }
   }
  },
  {
   "cell_type": "code",
   "execution_count": 17,
   "outputs": [],
   "source": [
    "from typing import cast\n",
    "from gym.envs.toy_text import TaxiEnv"
   ],
   "metadata": {
    "collapsed": false,
    "pycharm": {
     "name": "#%%\n"
    }
   }
  },
  {
   "cell_type": "code",
   "execution_count": 5,
   "metadata": {
    "collapsed": true
   },
   "outputs": [
    {
     "name": "stdout",
     "output_type": "stream",
     "text": [
      "State space: Discrete(500)\n",
      "Action space: Discrete(6)\n",
      "+---------+\n",
      "|R: | : :G|\n",
      "| : | : :\u001B[43m \u001B[0m|\n",
      "| : : : : |\n",
      "| | : | : |\n",
      "|\u001B[35mY\u001B[0m| : |\u001B[34;1mB\u001B[0m: |\n",
      "+---------+\n",
      "\n"
     ]
    }
   ],
   "source": [
    "import gym\n",
    "\n",
    "env = gym.make(\"Taxi-v3\")\n",
    "print(f\"State space: {env.observation_space}\")\n",
    "print(f\"Action space: {env.action_space}\")\n",
    "\n",
    "env.reset()\n",
    "env.render()"
   ]
  },
  {
   "cell_type": "markdown",
   "source": [
    "For the purposes of this tutorial, we will\n",
    "consider a factorized state space.\n",
    "\n",
    "- `taxi_row`: an integer between 0 and 4\n",
    "- `taxi_col`: an integer between 0 and 4\n",
    "- `passenger_location`: an integer between 0 and 4:\n",
    "    - 0: R(ed)\n",
    "    - 1: G(reen)\n",
    "    - 2: Y(ellow)\n",
    "    - 3: B(lue)\n",
    "    - 4: in taxi\n",
    "- `destination`: an integer between 0 and 3\n",
    "    - 0: R(ed)\n",
    "    - 1: G(reen)\n",
    "    - 2: Y(ellow)\n",
    "    - 3: B(lue)\n",
    "\n",
    "There are 6 deterministic actions:\n",
    "\n",
    "- 0: move south\n",
    "- 1: move north\n",
    "- 2: move east\n",
    "- 3: move west\n",
    "- 4: pickup passenger\n",
    "- 5: dropoff passenger"
   ],
   "metadata": {
    "collapsed": false,
    "pycharm": {
     "name": "#%% md\n"
    }
   }
  },
  {
   "cell_type": "code",
   "execution_count": 16,
   "outputs": [
    {
     "name": "stdout",
     "output_type": "stream",
     "text": [
      "+---------+\n",
      "|R: | : :\u001B[34;1mG\u001B[0m|\n",
      "| : |\u001B[43m \u001B[0m: : |\n",
      "| : : : : |\n",
      "| | : | : |\n",
      "|Y| : |\u001B[35mB\u001B[0m: |\n",
      "+---------+\n",
      "\n",
      "taxi_row: 1\n",
      "taxi_col: 2\n",
      "passenger_location: 1\n",
      "destination: 3\n"
     ]
    }
   ],
   "source": [
    "class TaxiWrapper(gym.ObservationWrapper):\n",
    "\n",
    "    def observation(self, observation):\n",
    "        \"\"\"Decode the observation.\"\"\"\n",
    "        cast(TaxiEnv, self.unwrapped)\n",
    "        return tuple(self.unwrapped.decode(observation))\n",
    "\n",
    "wrapper = TaxiWrapper(env)\n",
    "taxi_row, taxi_col, passenger_location, destination = wrapper.reset()\n",
    "wrapper.render()\n",
    "print(f\"taxi_row: {taxi_row}\")\n",
    "print(f\"taxi_col: {taxi_col}\")\n",
    "print(f\"passenger_location: {passenger_location}\")\n",
    "print(f\"destination: {destination}\")"
   ],
   "metadata": {
    "collapsed": false,
    "pycharm": {
     "name": "#%%\n"
    }
   }
  },
  {
   "cell_type": "markdown",
   "source": [
    "To model the task as a temporal goal task,\n",
    "we consider two different representations:\n",
    "\n",
    "- $(x, y) \\in \\{0..4\\}^2$ the features of the agent, and\n",
    "- A set of fluents $\\mathcal{F}:$\n",
    "    - $pAtR$\n",
    "    - $pAtY$\n",
    "    - $pAtG$\n",
    "    - $pAtB$\n",
    "    - $pOnT$\n",
    "    - $dAtR$\n",
    "    - $dAtY$\n",
    "    - $dAtG$\n",
    "    - $dAtB$\n",
    "\n",
    "The available actions at the high-level are $pickUp(X)$ and $dropOff(X)$.\n",
    "Note that we don't need to model the movements of the taxi at this level\n",
    "of abstraction.\n",
    "\n",
    "Assume that in a certain episode the goal is to\n",
    "bring the passenger to destination red and the passenger\n",
    "is currently at position green.\n",
    "\n",
    "The initial condition is the following:\n",
    "\n",
    "$$\n",
    "\\mathcal{I} = passengerAtGreen \\wedge destinationAtRed\n",
    "$$\n",
    "\n",
    "The goal can be represented by the following LTL$_f$ formula:\n",
    "$$\n",
    "\\lozenge(passengerAtRed \\wedge destinationAtRed)\n",
    "$$\n",
    "\n"
   ],
   "metadata": {
    "collapsed": false,
    "pycharm": {
     "name": "#%% md\n"
    }
   }
  }
 ],
 "metadata": {
  "kernelspec": {
   "display_name": "Python 3",
   "language": "python",
   "name": "python3"
  },
  "language_info": {
   "codemirror_mode": {
    "name": "ipython",
    "version": 2
   },
   "file_extension": ".py",
   "mimetype": "text/x-python",
   "name": "python",
   "nbconvert_exporter": "python",
   "pygments_lexer": "ipython2",
   "version": "2.7.6"
  }
 },
 "nbformat": 4,
 "nbformat_minor": 0
}